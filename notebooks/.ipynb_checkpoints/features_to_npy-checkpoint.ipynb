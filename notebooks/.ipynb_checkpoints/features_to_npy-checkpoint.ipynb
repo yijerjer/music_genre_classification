{
 "cells": [
  {
   "cell_type": "code",
   "execution_count": 1,
   "metadata": {},
   "outputs": [],
   "source": [
    "import os\n",
    "os.chdir(\"../\")"
   ]
  },
  {
   "cell_type": "code",
   "execution_count": 2,
   "metadata": {},
   "outputs": [],
   "source": [
    "import utils\n",
    "import time\n",
    "import matplotlib.pyplot as plt\n",
    "import librosa, librosa.display\n",
    "import numpy as np"
   ]
  },
  {
   "cell_type": "code",
   "execution_count": 3,
   "metadata": {},
   "outputs": [],
   "source": [
    "tracks = utils.load_csv(\"tracks\")\n",
    "train_tracks = tracks[tracks[\"set\", \"split\"] == \"training\"]\n",
    "validate_tracks = tracks[tracks[\"set\", \"split\"] == \"validation\"]\n",
    "test_tracks = tracks[tracks[\"set\", \"split\"] == \"test\"]\n",
    "del tracks"
   ]
  },
  {
   "cell_type": "code",
   "execution_count": 4,
   "metadata": {},
   "outputs": [],
   "source": [
    "sr = 22050"
   ]
  },
  {
   "cell_type": "markdown",
   "metadata": {},
   "source": [
    "### Random Sample"
   ]
  },
  {
   "cell_type": "code",
   "execution_count": null,
   "metadata": {},
   "outputs": [],
   "source": [
    "random_sample = train_tracks.sample()\n",
    "sample_id = random_sample.index[0]\n",
    "sample_genre = random_sample[\"track\", \"genre_top\"].item()\n",
    "sample_waveform, sr = utils.load_waveform(sample_id, sr=sr)\n",
    "print(f\"Track ID: {sample_id}, Genre: {sample_genre}\")"
   ]
  },
  {
   "cell_type": "markdown",
   "metadata": {},
   "source": [
    "#### CQT"
   ]
  },
  {
   "cell_type": "code",
   "execution_count": null,
   "metadata": {},
   "outputs": [],
   "source": [
    "sample_cqt = np.abs(librosa.cqt(sample_waveform, sr=sr, hop_length=1024, bins_per_octave=12, n_bins=7*12))\n",
    "print(f\"Shape of CQT: {sample_cqt.shape}\")\n",
    "\n",
    "plt.figure(figsize=(7, 4))\n",
    "librosa.display.specshow(sample_cqt, y_axis=\"cqt\", x_axis=\"time\", sr=sr, hop_length=1024)\n",
    "plt.title(\"CQT\")"
   ]
  },
  {
   "cell_type": "markdown",
   "metadata": {},
   "source": [
    "#### Chroma CQT and CENS"
   ]
  },
  {
   "cell_type": "code",
   "execution_count": null,
   "metadata": {},
   "outputs": [],
   "source": [
    "chroma_cqt = librosa.feature.chroma_cqt(C=sample_cqt, hop_length=1024)\n",
    "chroma_cens = librosa.feature.chroma_cens(C=sample_cqt, hop_length=1024, sr=sr)\n",
    "print(f\"Shape of Chroma CQT: {chroma_cqt.shape}, Chroma CENS: {chroma_cens.shape}\")\n",
    "\n",
    "plt.figure(figsize=(14, 4))\n",
    "plt.subplot(1, 2, 1)\n",
    "librosa.display.specshow(chroma_cqt, sr=sr, hop_length=1024, y_axis=\"chroma\", x_axis=\"time\")\n",
    "plt.title(\"Chroma CQT\")\n",
    "plt.subplot(1, 2, 2)\n",
    "plt.title(\"Chroma CENS\")\n",
    "librosa.display.specshow(chroma_cens, sr=sr, hop_length=1024, y_axis=\"chroma\", x_axis=\"time\")"
   ]
  },
  {
   "cell_type": "markdown",
   "metadata": {},
   "source": [
    "#### Linear and Mel scale STFT"
   ]
  },
  {
   "cell_type": "code",
   "execution_count": null,
   "metadata": {},
   "outputs": [],
   "source": [
    "stft_linear = np.abs(librosa.stft(sample_waveform, n_fft=1024, hop_length=1024))\n",
    "stft_linear_db = librosa.amplitude_to_db(stft_linear, ref=np.max)\n",
    "stft_mel = librosa.feature.melspectrogram(S=stft_linear**2, n_fft=1024, hop_length=1024)\n",
    "stft_mel_db = librosa.amplitude_to_db(stft_mel, ref=np.max)\n",
    "\n",
    "print(f\"Shape of Linear STFT: {stft_linear_db.shape}, Mel STFT: {stft_mel_db.shape}\")\n",
    "\n",
    "plt.figure(figsize=(14, 4))\n",
    "plt.subplot(1, 2, 1)\n",
    "librosa.display.specshow(stft_linear_db, x_axis=\"time\", y_axis=\"linear\", sr=sr, hop_length=1024)\n",
    "plt.title(\"Linear STFT\")\n",
    "plt.subplot(1, 2, 2)\n",
    "librosa.display.specshow(stft_mel_db, x_axis=\"time\", y_axis=\"mel\", sr=sr, hop_length=1024)\n",
    "plt.title(\"Mel STFT\")"
   ]
  },
  {
   "cell_type": "markdown",
   "metadata": {},
   "source": [
    "#### Chroma STFT"
   ]
  },
  {
   "cell_type": "code",
   "execution_count": null,
   "metadata": {},
   "outputs": [],
   "source": [
    "chroma_stft = librosa.feature.chroma_stft(S=stft_linear**2, hop_length=1024, n_fft=1024, n_chroma=12)\n",
    "print(f\"Shape of Chroma STFT: {chroma_stft.shape}\")\n",
    "\n",
    "plt.figure(figsize=(7, 4))\n",
    "librosa.display.specshow(chroma_stft, y_axis=\"chroma\", x_axis=\"time\", sr=sr, hop_length=1024)\n",
    "plt.title(\"Chroma STFT\")"
   ]
  },
  {
   "cell_type": "markdown",
   "metadata": {},
   "source": [
    "### Create directory to store features"
   ]
  },
  {
   "cell_type": "code",
   "execution_count": null,
   "metadata": {},
   "outputs": [],
   "source": [
    "if not os.path.isdir(\"data/features\"):\n",
    "    os.makedirs(\"data/features\")\n",
    "\n",
    "if not os.path.isdir(\"data/features/ids\"):\n",
    "    os.makedirs(\"data/features/ids\")\n",
    "\n",
    "if not os.path.isdir(\"data/features/cqt\"):\n",
    "    os.makedirs(\"data/features/cqt\")\n",
    "\n",
    "if not os.path.isdir(\"data/features/chroma_cqt\"):\n",
    "    os.makedirs(\"data/features/chroma_cqt\")\n",
    "    \n",
    "if not os.path.isdir(\"data/features/chroma_cens\"):\n",
    "    os.makedirs(\"data/features/chroma_cens\")\n",
    "\n",
    "if not os.path.isdir(\"data/features/stft\"):\n",
    "    os.makedirs(\"data/features/stft\")\n",
    "\n",
    "if not os.path.isdir(\"data/features/linear_stft\"):\n",
    "    os.makedirs(\"data/features/linear_stft\")\n",
    "\n",
    "if not os.path.isdir(\"data/features/mel_stft/\"):\n",
    "    os.makedirs(\"data/features/mel_stft/\")\n",
    "\n",
    "if not os.path.isdir(\"data/features/chroma_stft\"):\n",
    "    os.makedirs(\"data/features/chroma_stft\")"
   ]
  },
  {
   "cell_type": "markdown",
   "metadata": {},
   "source": [
    "### Create CQTs for each track"
   ]
  },
  {
   "cell_type": "code",
   "execution_count": null,
   "metadata": {},
   "outputs": [],
   "source": [
    "test_ids, test_cqts, test_failed_ids = utils.create_feature_array(test_tracks, \"cqt\")\n",
    "np.save(\"data/features/cqt/test_cqt.npy\", test_cqts)\n",
    "np.save(\"data/features/ids/test_ids.npy\", test_ids)\n",
    "np.save(\"data/features/ids/test_failed_ids.npy\", test_failed_ids)"
   ]
  },
  {
   "cell_type": "code",
   "execution_count": null,
   "metadata": {},
   "outputs": [],
   "source": [
    "validate_ids, validate_cqts, validate_failed_ids = utils.create_feature_array(validate_tracks, \"cqt\")\n",
    "np.save(\"data/features/cqt/validate_cqt.npy\", validate_cqts)\n",
    "np.save(\"data/features/ids/validate_ids.npy\", validate_ids)\n",
    "np.save(\"data/features/ids/validate_failed_ids.npy\", validate_failed_ids)"
   ]
  },
  {
   "cell_type": "code",
   "execution_count": 5,
   "metadata": {},
   "outputs": [
    {
     "name": "stdout",
     "output_type": "stream",
     "text": [
      "Creating array for cqt\n"
     ]
    },
    {
     "ename": "KeyboardInterrupt",
     "evalue": "",
     "output_type": "error",
     "traceback": [
      "\u001b[0;31m---------------------------------------------------------------------------\u001b[0m",
      "\u001b[0;31mKeyboardInterrupt\u001b[0m                         Traceback (most recent call last)",
      "\u001b[0;32m<ipython-input-5-94c68c31b51a>\u001b[0m in \u001b[0;36m<module>\u001b[0;34m\u001b[0m\n\u001b[1;32m      6\u001b[0m     \u001b[0mend_i\u001b[0m \u001b[0;34m=\u001b[0m \u001b[0mchunk_len\u001b[0m \u001b[0;34m*\u001b[0m \u001b[0;34m(\u001b[0m\u001b[0mchunk_i\u001b[0m \u001b[0;34m+\u001b[0m \u001b[0;36m1\u001b[0m\u001b[0;34m)\u001b[0m \u001b[0;32mif\u001b[0m \u001b[0mchunk_i\u001b[0m \u001b[0;34m!=\u001b[0m \u001b[0;34m(\u001b[0m\u001b[0mn_chunks\u001b[0m \u001b[0;34m-\u001b[0m \u001b[0;36m1\u001b[0m\u001b[0;34m)\u001b[0m \u001b[0;32melse\u001b[0m \u001b[0mtrain_tracks\u001b[0m\u001b[0;34m.\u001b[0m\u001b[0mshape\u001b[0m\u001b[0;34m[\u001b[0m\u001b[0;36m0\u001b[0m\u001b[0;34m]\u001b[0m\u001b[0;34m\u001b[0m\u001b[0;34m\u001b[0m\u001b[0m\n\u001b[1;32m      7\u001b[0m     \u001b[0mchunk\u001b[0m \u001b[0;34m=\u001b[0m \u001b[0mtrain_tracks\u001b[0m\u001b[0;34m.\u001b[0m\u001b[0miloc\u001b[0m\u001b[0;34m[\u001b[0m\u001b[0mstart_i\u001b[0m\u001b[0;34m:\u001b[0m\u001b[0mend_i\u001b[0m\u001b[0;34m]\u001b[0m\u001b[0;34m\u001b[0m\u001b[0;34m\u001b[0m\u001b[0m\n\u001b[0;32m----> 8\u001b[0;31m     \u001b[0mtrain_ids\u001b[0m\u001b[0;34m,\u001b[0m \u001b[0mtrain_cqts\u001b[0m\u001b[0;34m,\u001b[0m \u001b[0mtrain_failed_ids\u001b[0m \u001b[0;34m=\u001b[0m \u001b[0mutils\u001b[0m\u001b[0;34m.\u001b[0m\u001b[0mcreate_feature_array\u001b[0m\u001b[0;34m(\u001b[0m\u001b[0mchunk\u001b[0m\u001b[0;34m,\u001b[0m \u001b[0;34m\"cqt\"\u001b[0m\u001b[0;34m)\u001b[0m\u001b[0;34m\u001b[0m\u001b[0;34m\u001b[0m\u001b[0m\n\u001b[0m\u001b[1;32m      9\u001b[0m     \u001b[0mnp\u001b[0m\u001b[0;34m.\u001b[0m\u001b[0msave\u001b[0m\u001b[0;34m(\u001b[0m\u001b[0;34mf\"data/features/cqt/train_cqt_{chunk_i}.npy\"\u001b[0m\u001b[0;34m,\u001b[0m \u001b[0mtrain_cqts\u001b[0m\u001b[0;34m)\u001b[0m\u001b[0;34m\u001b[0m\u001b[0;34m\u001b[0m\u001b[0m\n\u001b[1;32m     10\u001b[0m     \u001b[0mnp\u001b[0m\u001b[0;34m.\u001b[0m\u001b[0msave\u001b[0m\u001b[0;34m(\u001b[0m\u001b[0;34mf\"data/features/ids/train_ids_{chunk_i}.npy\"\u001b[0m\u001b[0;34m,\u001b[0m \u001b[0mtrain_ids\u001b[0m\u001b[0;34m)\u001b[0m\u001b[0;34m\u001b[0m\u001b[0;34m\u001b[0m\u001b[0m\n",
      "\u001b[0;32m~/Documents/music_recognition/utils.py\u001b[0m in \u001b[0;36mcreate_feature_array\u001b[0;34m(tracks, f_type, sr, hl)\u001b[0m\n\u001b[1;32m     46\u001b[0m     \u001b[0;32mfor\u001b[0m \u001b[0mtrack\u001b[0m \u001b[0;32min\u001b[0m \u001b[0mtracks\u001b[0m\u001b[0;34m.\u001b[0m\u001b[0miterrows\u001b[0m\u001b[0;34m(\u001b[0m\u001b[0;34m)\u001b[0m\u001b[0;34m:\u001b[0m\u001b[0;34m\u001b[0m\u001b[0;34m\u001b[0m\u001b[0m\n\u001b[1;32m     47\u001b[0m         \u001b[0mtrack_id\u001b[0m \u001b[0;34m=\u001b[0m \u001b[0mtrack\u001b[0m\u001b[0;34m[\u001b[0m\u001b[0;36m0\u001b[0m\u001b[0;34m]\u001b[0m\u001b[0;34m\u001b[0m\u001b[0;34m\u001b[0m\u001b[0m\n\u001b[0;32m---> 48\u001b[0;31m         \u001b[0mwaveform\u001b[0m\u001b[0;34m,\u001b[0m \u001b[0msr\u001b[0m \u001b[0;34m=\u001b[0m \u001b[0mload_waveform\u001b[0m\u001b[0;34m(\u001b[0m\u001b[0mtrack_id\u001b[0m\u001b[0;34m,\u001b[0m \u001b[0msr\u001b[0m\u001b[0;34m=\u001b[0m\u001b[0msr\u001b[0m\u001b[0;34m)\u001b[0m\u001b[0;34m\u001b[0m\u001b[0;34m\u001b[0m\u001b[0m\n\u001b[0m\u001b[1;32m     49\u001b[0m \u001b[0;34m\u001b[0m\u001b[0m\n\u001b[1;32m     50\u001b[0m         \u001b[0mcount\u001b[0m \u001b[0;34m+=\u001b[0m \u001b[0;36m1\u001b[0m\u001b[0;34m\u001b[0m\u001b[0;34m\u001b[0m\u001b[0m\n",
      "\u001b[0;32m~/Documents/music_recognition/utils.py\u001b[0m in \u001b[0;36mload_waveform\u001b[0;34m(track_id, sr)\u001b[0m\n\u001b[1;32m     21\u001b[0m     \u001b[0mid_str\u001b[0m \u001b[0;34m=\u001b[0m \u001b[0;34mf\"{track_id:06}\"\u001b[0m\u001b[0;34m\u001b[0m\u001b[0;34m\u001b[0m\u001b[0m\n\u001b[1;32m     22\u001b[0m     \u001b[0;32mtry\u001b[0m\u001b[0;34m:\u001b[0m\u001b[0;34m\u001b[0m\u001b[0;34m\u001b[0m\u001b[0m\n\u001b[0;32m---> 23\u001b[0;31m         \u001b[0mwaveform\u001b[0m\u001b[0;34m,\u001b[0m \u001b[0m_\u001b[0m \u001b[0;34m=\u001b[0m \u001b[0mlibrosa\u001b[0m\u001b[0;34m.\u001b[0m\u001b[0mload\u001b[0m\u001b[0;34m(\u001b[0m\u001b[0;34mf\"{MP3_DIR}/{id_str[0:3]}/{id_str}.mp3\"\u001b[0m\u001b[0;34m,\u001b[0m \u001b[0mmono\u001b[0m\u001b[0;34m=\u001b[0m\u001b[0;32mTrue\u001b[0m\u001b[0;34m,\u001b[0m \u001b[0msr\u001b[0m\u001b[0;34m=\u001b[0m\u001b[0msr\u001b[0m\u001b[0;34m,\u001b[0m \u001b[0mres_type\u001b[0m\u001b[0;34m=\u001b[0m\u001b[0;34m\"polyphase\"\u001b[0m\u001b[0;34m)\u001b[0m\u001b[0;34m\u001b[0m\u001b[0;34m\u001b[0m\u001b[0m\n\u001b[0m\u001b[1;32m     24\u001b[0m     \u001b[0;32mexcept\u001b[0m \u001b[0mException\u001b[0m \u001b[0;32mas\u001b[0m \u001b[0me\u001b[0m\u001b[0;34m:\u001b[0m\u001b[0;34m\u001b[0m\u001b[0;34m\u001b[0m\u001b[0m\n\u001b[1;32m     25\u001b[0m         \u001b[0mprint\u001b[0m\u001b[0;34m(\u001b[0m\u001b[0;34mf\"Unable to load track with id: {id_str}. Error: {e}\"\u001b[0m\u001b[0;34m)\u001b[0m\u001b[0;34m\u001b[0m\u001b[0;34m\u001b[0m\u001b[0m\n",
      "\u001b[0;32m~/.pyenv/versions/anaconda3-2020.02/lib/python3.7/site-packages/librosa/core/audio.py\u001b[0m in \u001b[0;36mload\u001b[0;34m(path, sr, mono, offset, duration, dtype, res_type)\u001b[0m\n\u001b[1;32m    169\u001b[0m \u001b[0;34m\u001b[0m\u001b[0m\n\u001b[1;32m    170\u001b[0m     \u001b[0;32mif\u001b[0m \u001b[0msr\u001b[0m \u001b[0;32mis\u001b[0m \u001b[0;32mnot\u001b[0m \u001b[0;32mNone\u001b[0m\u001b[0;34m:\u001b[0m\u001b[0;34m\u001b[0m\u001b[0;34m\u001b[0m\u001b[0m\n\u001b[0;32m--> 171\u001b[0;31m         \u001b[0my\u001b[0m \u001b[0;34m=\u001b[0m \u001b[0mresample\u001b[0m\u001b[0;34m(\u001b[0m\u001b[0my\u001b[0m\u001b[0;34m,\u001b[0m \u001b[0msr_native\u001b[0m\u001b[0;34m,\u001b[0m \u001b[0msr\u001b[0m\u001b[0;34m,\u001b[0m \u001b[0mres_type\u001b[0m\u001b[0;34m=\u001b[0m\u001b[0mres_type\u001b[0m\u001b[0;34m)\u001b[0m\u001b[0;34m\u001b[0m\u001b[0;34m\u001b[0m\u001b[0m\n\u001b[0m\u001b[1;32m    172\u001b[0m \u001b[0;34m\u001b[0m\u001b[0m\n\u001b[1;32m    173\u001b[0m     \u001b[0;32melse\u001b[0m\u001b[0;34m:\u001b[0m\u001b[0;34m\u001b[0m\u001b[0;34m\u001b[0m\u001b[0m\n",
      "\u001b[0;32m~/.pyenv/versions/anaconda3-2020.02/lib/python3.7/site-packages/librosa/core/audio.py\u001b[0m in \u001b[0;36mresample\u001b[0;34m(y, orig_sr, target_sr, res_type, fix, scale, **kwargs)\u001b[0m\n\u001b[1;32m    543\u001b[0m         \u001b[0mtarget_sr\u001b[0m \u001b[0;34m=\u001b[0m \u001b[0mint\u001b[0m\u001b[0;34m(\u001b[0m\u001b[0mtarget_sr\u001b[0m\u001b[0;34m)\u001b[0m\u001b[0;34m\u001b[0m\u001b[0;34m\u001b[0m\u001b[0m\n\u001b[1;32m    544\u001b[0m         \u001b[0mgcd\u001b[0m \u001b[0;34m=\u001b[0m \u001b[0mnp\u001b[0m\u001b[0;34m.\u001b[0m\u001b[0mgcd\u001b[0m\u001b[0;34m(\u001b[0m\u001b[0morig_sr\u001b[0m\u001b[0;34m,\u001b[0m \u001b[0mtarget_sr\u001b[0m\u001b[0;34m)\u001b[0m\u001b[0;34m\u001b[0m\u001b[0;34m\u001b[0m\u001b[0m\n\u001b[0;32m--> 545\u001b[0;31m         \u001b[0my_hat\u001b[0m \u001b[0;34m=\u001b[0m \u001b[0mscipy\u001b[0m\u001b[0;34m.\u001b[0m\u001b[0msignal\u001b[0m\u001b[0;34m.\u001b[0m\u001b[0mresample_poly\u001b[0m\u001b[0;34m(\u001b[0m\u001b[0my\u001b[0m\u001b[0;34m,\u001b[0m \u001b[0mtarget_sr\u001b[0m \u001b[0;34m//\u001b[0m \u001b[0mgcd\u001b[0m\u001b[0;34m,\u001b[0m \u001b[0morig_sr\u001b[0m \u001b[0;34m//\u001b[0m \u001b[0mgcd\u001b[0m\u001b[0;34m,\u001b[0m \u001b[0maxis\u001b[0m\u001b[0;34m=\u001b[0m\u001b[0;34m-\u001b[0m\u001b[0;36m1\u001b[0m\u001b[0;34m)\u001b[0m\u001b[0;34m\u001b[0m\u001b[0;34m\u001b[0m\u001b[0m\n\u001b[0m\u001b[1;32m    546\u001b[0m     \u001b[0;32melse\u001b[0m\u001b[0;34m:\u001b[0m\u001b[0;34m\u001b[0m\u001b[0;34m\u001b[0m\u001b[0m\n\u001b[1;32m    547\u001b[0m         \u001b[0my_hat\u001b[0m \u001b[0;34m=\u001b[0m \u001b[0mresampy\u001b[0m\u001b[0;34m.\u001b[0m\u001b[0mresample\u001b[0m\u001b[0;34m(\u001b[0m\u001b[0my\u001b[0m\u001b[0;34m,\u001b[0m \u001b[0morig_sr\u001b[0m\u001b[0;34m,\u001b[0m \u001b[0mtarget_sr\u001b[0m\u001b[0;34m,\u001b[0m \u001b[0mfilter\u001b[0m\u001b[0;34m=\u001b[0m\u001b[0mres_type\u001b[0m\u001b[0;34m,\u001b[0m \u001b[0maxis\u001b[0m\u001b[0;34m=\u001b[0m\u001b[0;34m-\u001b[0m\u001b[0;36m1\u001b[0m\u001b[0;34m)\u001b[0m\u001b[0;34m\u001b[0m\u001b[0;34m\u001b[0m\u001b[0m\n",
      "\u001b[0;32m~/.pyenv/versions/anaconda3-2020.02/lib/python3.7/site-packages/scipy/signal/signaltools.py\u001b[0m in \u001b[0;36mresample_poly\u001b[0;34m(x, up, down, axis, window, padtype, cval)\u001b[0m\n\u001b[1;32m   3123\u001b[0m \u001b[0;34m\u001b[0m\u001b[0m\n\u001b[1;32m   3124\u001b[0m     \u001b[0;31m# filter then remove excess\u001b[0m\u001b[0;34m\u001b[0m\u001b[0;34m\u001b[0m\u001b[0;34m\u001b[0m\u001b[0m\n\u001b[0;32m-> 3125\u001b[0;31m     \u001b[0my\u001b[0m \u001b[0;34m=\u001b[0m \u001b[0mupfirdn\u001b[0m\u001b[0;34m(\u001b[0m\u001b[0mh\u001b[0m\u001b[0;34m,\u001b[0m \u001b[0mx\u001b[0m\u001b[0;34m,\u001b[0m \u001b[0mup\u001b[0m\u001b[0;34m,\u001b[0m \u001b[0mdown\u001b[0m\u001b[0;34m,\u001b[0m \u001b[0maxis\u001b[0m\u001b[0;34m=\u001b[0m\u001b[0maxis\u001b[0m\u001b[0;34m,\u001b[0m \u001b[0;34m**\u001b[0m\u001b[0mupfirdn_kwargs\u001b[0m\u001b[0;34m)\u001b[0m\u001b[0;34m\u001b[0m\u001b[0;34m\u001b[0m\u001b[0m\n\u001b[0m\u001b[1;32m   3126\u001b[0m     \u001b[0mkeep\u001b[0m \u001b[0;34m=\u001b[0m \u001b[0;34m[\u001b[0m\u001b[0mslice\u001b[0m\u001b[0;34m(\u001b[0m\u001b[0;32mNone\u001b[0m\u001b[0;34m)\u001b[0m\u001b[0;34m,\u001b[0m \u001b[0;34m]\u001b[0m\u001b[0;34m*\u001b[0m\u001b[0mx\u001b[0m\u001b[0;34m.\u001b[0m\u001b[0mndim\u001b[0m\u001b[0;34m\u001b[0m\u001b[0;34m\u001b[0m\u001b[0m\n\u001b[1;32m   3127\u001b[0m     \u001b[0mkeep\u001b[0m\u001b[0;34m[\u001b[0m\u001b[0maxis\u001b[0m\u001b[0;34m]\u001b[0m \u001b[0;34m=\u001b[0m \u001b[0mslice\u001b[0m\u001b[0;34m(\u001b[0m\u001b[0mn_pre_remove\u001b[0m\u001b[0;34m,\u001b[0m \u001b[0mn_pre_remove_end\u001b[0m\u001b[0;34m)\u001b[0m\u001b[0;34m\u001b[0m\u001b[0;34m\u001b[0m\u001b[0m\n",
      "\u001b[0;32m~/.pyenv/versions/anaconda3-2020.02/lib/python3.7/site-packages/scipy/signal/_upfirdn.py\u001b[0m in \u001b[0;36mupfirdn\u001b[0;34m(h, x, up, down, axis, mode, cval)\u001b[0m\n\u001b[1;32m    208\u001b[0m     \u001b[0mufd\u001b[0m \u001b[0;34m=\u001b[0m \u001b[0m_UpFIRDn\u001b[0m\u001b[0;34m(\u001b[0m\u001b[0mh\u001b[0m\u001b[0;34m,\u001b[0m \u001b[0mx\u001b[0m\u001b[0;34m.\u001b[0m\u001b[0mdtype\u001b[0m\u001b[0;34m,\u001b[0m \u001b[0mup\u001b[0m\u001b[0;34m,\u001b[0m \u001b[0mdown\u001b[0m\u001b[0;34m)\u001b[0m\u001b[0;34m\u001b[0m\u001b[0;34m\u001b[0m\u001b[0m\n\u001b[1;32m    209\u001b[0m     \u001b[0;31m# This is equivalent to (but faster than) using np.apply_along_axis\u001b[0m\u001b[0;34m\u001b[0m\u001b[0;34m\u001b[0m\u001b[0;34m\u001b[0m\u001b[0m\n\u001b[0;32m--> 210\u001b[0;31m     \u001b[0;32mreturn\u001b[0m \u001b[0mufd\u001b[0m\u001b[0;34m.\u001b[0m\u001b[0mapply_filter\u001b[0m\u001b[0;34m(\u001b[0m\u001b[0mx\u001b[0m\u001b[0;34m,\u001b[0m \u001b[0maxis\u001b[0m\u001b[0;34m,\u001b[0m \u001b[0mmode\u001b[0m\u001b[0;34m,\u001b[0m \u001b[0mcval\u001b[0m\u001b[0;34m)\u001b[0m\u001b[0;34m\u001b[0m\u001b[0;34m\u001b[0m\u001b[0m\n\u001b[0m",
      "\u001b[0;32m~/.pyenv/versions/anaconda3-2020.02/lib/python3.7/site-packages/scipy/signal/_upfirdn.py\u001b[0m in \u001b[0;36mapply_filter\u001b[0;34m(self, x, axis, mode, cval)\u001b[0m\n\u001b[1;32m     97\u001b[0m         _apply(np.asarray(x, self._output_type),\n\u001b[1;32m     98\u001b[0m                \u001b[0mself\u001b[0m\u001b[0;34m.\u001b[0m\u001b[0m_h_trans_flip\u001b[0m\u001b[0;34m,\u001b[0m \u001b[0mout\u001b[0m\u001b[0;34m,\u001b[0m\u001b[0;34m\u001b[0m\u001b[0;34m\u001b[0m\u001b[0m\n\u001b[0;32m---> 99\u001b[0;31m                self._up, self._down, axis, mode, cval)\n\u001b[0m\u001b[1;32m    100\u001b[0m         \u001b[0;32mreturn\u001b[0m \u001b[0mout\u001b[0m\u001b[0;34m\u001b[0m\u001b[0;34m\u001b[0m\u001b[0m\n\u001b[1;32m    101\u001b[0m \u001b[0;34m\u001b[0m\u001b[0m\n",
      "\u001b[0;31mKeyboardInterrupt\u001b[0m: "
     ]
    }
   ],
   "source": [
    "n_chunks = 8\n",
    "chunk_len = int(train_tracks.shape[0] / n_chunks)\n",
    "\n",
    "for chunk_i in range(n_chunks):\n",
    "    start_i = chunk_len * chunk_i\n",
    "    end_i = chunk_len * (chunk_i + 1) if chunk_i != (n_chunks - 1) else train_tracks.shape[0]\n",
    "    chunk = train_tracks.iloc[start_i:end_i]\n",
    "    train_ids, train_cqts, train_failed_ids = utils.create_feature_array(chunk, \"cqt\")\n",
    "    np.save(f\"data/features/cqt/train_cqt_{chunk_i}.npy\", train_cqts)\n",
    "    np.save(f\"data/features/ids/train_ids_{chunk_i}.npy\", train_ids)\n",
    "    np.save(f\"data/features/ids/train_failed_ids_{chunk_i}.npy\", train_failed_ids)"
   ]
  },
  {
   "cell_type": "markdown",
   "metadata": {},
   "source": [
    "### Create Chroma CQT and CENS for each track"
   ]
  },
  {
   "cell_type": "code",
   "execution_count": null,
   "metadata": {},
   "outputs": [],
   "source": [
    "def create_chroma_from_cqt(cqts_arr, type):\n",
    "    print(f\"Processing chroma_{type}\")\n",
    "    chromas = np.empty((0, 12, 640))\n",
    "    count = 0\n",
    "    start = time.time()\n",
    "    for cqt in cqts_arr:\n",
    "        count += 1\n",
    "        if count % 100 == 0:\n",
    "            print(f\"{utils.time_since(start)}, Processing {count} out of {cqts_arr.shape[0]}\")\n",
    "\n",
    "        if type == \"cqt\":\n",
    "            chroma = librosa.feature.chroma_cqt(C=cqt)\n",
    "        elif type == \"cens\":\n",
    "            chroma = librosa.feature.chroma_cens(C=cqt)\n",
    "        chromas = np.append(chromas, [chroma], axis=0)\n",
    "\n",
    "    return chromas"
   ]
  },
  {
   "cell_type": "code",
   "execution_count": null,
   "metadata": {},
   "outputs": [],
   "source": [
    "test_cqts = np.load(\"data/features/cqt/test_cqt.npy\")\n",
    "test_chroma_cqts = create_chroma_from_cqt(test_cqts, \"cqt\")\n",
    "test_chroma_cens = create_chroma_from_cqt(test_cqts, \"cens\")\n",
    "np.save(\"data/features/chroma_cqt/test_chroma_cqt.npy\", test_chroma_cqts)\n",
    "np.save(\"data/features/chroma_cens/test_chroma_cens.npy\", test_chroma_cens)\n",
    "    "
   ]
  },
  {
   "cell_type": "code",
   "execution_count": null,
   "metadata": {},
   "outputs": [],
   "source": [
    "validate_cqts = np.load(\"data/features/cqt/validate_cqt.npy\")\n",
    "validate_chroma_cqts = create_chroma_from_cqt(validate_cqts, \"cqt\")\n",
    "validate_chroma_cens = create_chroma_from_cqt(validate_cqts, \"cens\")\n",
    "np.save(\"data/features/chroma_cqt/validate_chroma_cqt.npy\", validate_chroma_cqts)\n",
    "np.save(\"data/features/chroma_cens/validate_chroma_cens.npy\", validate_chroma_cens)\n",
    "    "
   ]
  },
  {
   "cell_type": "code",
   "execution_count": null,
   "metadata": {},
   "outputs": [],
   "source": [
    "n_chunks = 8\n",
    "\n",
    "for i in range(n_chunks):\n",
    "    print(f\"Processing chunk {i}\")\n",
    "    train_cqts = np.load(f\"data/features/cqt/train_cqt_{i}.npy\")\n",
    "    train_chroma_cqts = create_chroma_from_cqt(train_cqts, \"cqt\")\n",
    "    train_chroma_cens = create_chroma_from_cqt(train_cqts, \"cens\")\n",
    "    np.save(f\"data/features/chroma_cqt/train_chroma_cqt_{i}.npy\", train_chroma_cqts)\n",
    "    np.save(f\"data/features/chroma_cens/train_chroma_cens_{i}.npy\", train_chroma_cens)"
   ]
  },
  {
   "cell_type": "markdown",
   "metadata": {},
   "source": [
    "### Create STFT"
   ]
  },
  {
   "cell_type": "code",
   "execution_count": null,
   "metadata": {},
   "outputs": [],
   "source": [
    "test_ids, test_stfts, test_failed_ids = utils.create_feature_array(test_tracks, \"stft\")\n",
    "np.save(\"data/features/stft/test_stft.npy\", test_stfts)"
   ]
  },
  {
   "cell_type": "code",
   "execution_count": null,
   "metadata": {},
   "outputs": [],
   "source": [
    "validate_ids, validate_stfts, validate_failed_ids = utils.create_feature_array(validate_tracks, \"stft\")\n",
    "np.save(\"data/features/stft/validate_stft.npy\", validate_stfts)"
   ]
  },
  {
   "cell_type": "code",
   "execution_count": 6,
   "metadata": {},
   "outputs": [
    {
     "name": "stdout",
     "output_type": "stream",
     "text": [
      "Creating array for stft\n",
      "Unable to load track with id: 133297. Error: \n",
      "0min 38.6s, Processing 100 out of 800\n",
      "1min 27.2s, Processing 200 out of 800\n",
      "2min 27.1s, Processing 300 out of 800\n",
      "3min 56.2s, Processing 400 out of 800\n",
      "5min 27.5s, Processing 500 out of 800\n",
      "7min 16.3s, Processing 600 out of 800\n",
      "9min 22.9s, Processing 700 out of 800\n",
      "11min 50.1s, Processing 800 out of 800\n"
     ]
    }
   ],
   "source": [
    "n_chunks = 8\n",
    "chunk_len = int(train_tracks.shape[0] / n_chunks)\n",
    "\n",
    "for chunk_i in range(7, n_chunks):\n",
    "    start_i = chunk_len * chunk_i\n",
    "    end_i = chunk_len * (chunk_i + 1) if chunk_i != (n_chunks - 1) else train_tracks.shape[0]\n",
    "    chunk = train_tracks.iloc[start_i:end_i]\n",
    "    _, train_stfts, _ = utils.create_feature_array(chunk, \"stft\")\n",
    "    np.save(f\"data/features/stft/train_stft_{chunk_i}.npy\", train_stfts)\n",
    "    del train_stfts"
   ]
  },
  {
   "cell_type": "markdown",
   "metadata": {},
   "source": [
    "### Create Linear and Mel Scale STFT in dB, and Chroma STFT"
   ]
  },
  {
   "cell_type": "code",
   "execution_count": 3,
   "metadata": {},
   "outputs": [],
   "source": [
    "def create_from_stft(stfts, type):\n",
    "    print(f\"Processing {type} scale STFT\")\n",
    "    type_size = {\"linear\": (513, 640), \"mel\": (128, 640), \"chroma\": (12, 640)}\n",
    "    feature_arr = np.empty((0, type_size[type][0], type_size[type][1]))\n",
    "\n",
    "    count = 0\n",
    "    start = time.time()\n",
    "    for stft in stfts:\n",
    "        count += 1\n",
    "        if count % 100 == 0:\n",
    "            print(f\"{utils.time_since(start)}, Processing {count} out of {stfts.shape[0]}\")\n",
    "    \n",
    "        if type == \"linear\":\n",
    "            feature = librosa.amplitude_to_db(stft, ref=np.max)\n",
    "        elif type == \"mel\":\n",
    "            feature = librosa.feature.melspectrogram(S=stft**2, n_fft=1024, hop_length=1024)\n",
    "        elif type == \"chroma\":\n",
    "            feature = librosa.feature.chroma_stft(S=stft**2, n_fft=1024, hop_length=1024, n_chroma=12)\n",
    "        feature_arr = np.append(feature_arr, [feature], axis=0)\n",
    "        del feature\n",
    "    \n",
    "    return feature_arr"
   ]
  },
  {
   "cell_type": "code",
   "execution_count": null,
   "metadata": {},
   "outputs": [
    {
     "name": "stdout",
     "output_type": "stream",
     "text": [
      "Processing linear scale STFT\n",
      "0min 10.6s, Processing 100 out of 800\n",
      "0min 45.5s, Processing 200 out of 800\n",
      "1min 54.9s, Processing 300 out of 800\n",
      "3min 38.5s, Processing 400 out of 800\n"
     ]
    }
   ],
   "source": [
    "test_stfts = np.load(\"data/features/stft/test_stft.npy\")\n",
    "np.save(\"data/features/linear_stft/test_linear_stft.npy\", create_from_stft(test_stfts, \"linear\"))\n",
    "np.save(\"data/features/mel_stft/test_mel_stft.npy\", create_from_stft(test_stfts, \"mel\"))\n",
    "np.save(\"data/features/chroma_stft/test_chroma_stft.npy\", create_from_stft(test_stfts, \"chroma\"))\n",
    "del test_stfts\n",
    "os.remove(\"data/features/stft/test_stft.npy\")\n"
   ]
  },
  {
   "cell_type": "code",
   "execution_count": null,
   "metadata": {},
   "outputs": [],
   "source": [
    "validate_stfts = np.load(\"data/features/stft/validate_stft.npy\")\n",
    "np.save(\"data/features/linear_stft/validate_linear_stft.npy\", create_from_stft(validate_stfts, \"linear\"))\n",
    "np.save(\"data/features/mel_stft/validate_mel_stft.npy\", create_from_stft(validate_stfts, \"mel\"))\n",
    "np.save(\"data/features/chroma_stft/validate_chroma_stft.npy\", create_from_stft(validate_stfts, \"chroma\"))\n",
    "del validate_stfts\n",
    "os.remove(\"data/features/stft/validate_stft.npy\")"
   ]
  },
  {
   "cell_type": "code",
   "execution_count": null,
   "metadata": {},
   "outputs": [],
   "source": [
    "n_chunks = 8\n",
    "\n",
    "for i in range(n_chunks):\n",
    "    print(f\"Processing chunk {i}\")\n",
    "    train_stfts = np.load(f\"data/features/stft/train_stft_{i}.npy\")\n",
    "    np.save(f\"data/features/linear_stft/train_linear_stft_{i}.npy\", create_from_stft(train_stfts, \"linear\"))\n",
    "    np.save(f\"data/features/mel_stft/train_mel_stft_{i}.npy\", create_from_stft(train_stfts, \"mel\"))\n",
    "    np.save(f\"data/features/chroma_stft/train_chroma_stft_{i}.npy\", create_from_stft(train_stfts, \"chroma\"))\n",
    "    del validate_stfts\n",
    "    os.remove(f\"data/features/stft/train_stft_{i}.npy\")"
   ]
  },
  {
   "cell_type": "code",
   "execution_count": null,
   "metadata": {},
   "outputs": [],
   "source": []
  }
 ],
 "metadata": {
  "kernelspec": {
   "display_name": "Python 3",
   "language": "python",
   "name": "python3"
  },
  "language_info": {
   "codemirror_mode": {
    "name": "ipython",
    "version": 3
   },
   "file_extension": ".py",
   "mimetype": "text/x-python",
   "name": "python",
   "nbconvert_exporter": "python",
   "pygments_lexer": "ipython3",
   "version": "3.7.6"
  }
 },
 "nbformat": 4,
 "nbformat_minor": 2
}
