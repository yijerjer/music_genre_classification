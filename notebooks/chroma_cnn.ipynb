{
  "cells": [
    {
      "cell_type": "code",
      "metadata": {
        "id": "BpN3m6KtntJ2",
        "colab_type": "code",
        "colab": {}
      },
      "source": [
        "import utils\n",
        "import models\n",
        "import model_utils\n",
        "import torch.nn as nn\n",
        "import torch.optim as optim"
      ],
      "execution_count": 1,
      "outputs": []
    },
    {
      "cell_type": "code",
      "metadata": {
        "id": "MZXeC1B28Zna",
        "colab_type": "code",
        "colab": {}
      },
      "source": [
        "# dl = model_utils.DataLoader(\"mel_stft\")\n",
        "import numpy as np\n",
        "import torch\n",
        "data = torch.from_numpy(np.load(\"data/features/mel_stft/train_mel_stft_0.npy\")).float()"
      ],
      "execution_count": 2,
      "outputs": []
    },
    {
      "cell_type": "code",
      "execution_count": 3,
      "metadata": {
        "tags": []
      },
      "outputs": [
        {
          "output_type": "execute_result",
          "data": {
            "text/plain": "tensor([[ 0.0945, -0.2247, -0.1333, -0.0688,  0.1374, -0.1486, -0.0144, -0.1298],\n        [ 0.0663, -0.2006, -0.1298, -0.1204,  0.0901, -0.0985, -0.0889, -0.1466],\n        [-0.0114, -0.1573, -0.0850, -0.1083,  0.0925, -0.0868, -0.0255, -0.0307],\n        [-0.0587, -0.1578, -0.0338, -0.0700,  0.0480, -0.0512,  0.0411,  0.0542]],\n       grad_fn=<AddmmBackward>)"
          },
          "metadata": {},
          "execution_count": 3
        }
      ],
      "source": [
        "test_cnn = models.MelCNNFreq()\n",
        "test_cnn(data"
      ]
    }
  ],
  "metadata": {
    "language_info": {
      "codemirror_mode": {
        "name": "ipython",
        "version": 3
      },
      "file_extension": ".py",
      "mimetype": "text/x-python",
      "name": "python",
      "nbconvert_exporter": "python",
      "pygments_lexer": "ipython3",
      "version": "3.7.6-final"
    },
    "orig_nbformat": 2,
    "kernelspec": {
      "name": "python3",
      "display_name": "Python 3"
    },
    "colab": {
      "name": "chroma_cnn.ipynb",
      "provenance": [],
      "collapsed_sections": []
    },
    "accelerator": "GPU"
  },
  "nbformat": 4,
  "nbformat_minor": 0
}